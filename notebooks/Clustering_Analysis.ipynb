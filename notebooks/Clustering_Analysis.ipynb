{
 "cells": [
  {
   "cell_type": "code",
   "execution_count": 49,
   "metadata": {},
   "outputs": [],
   "source": [
    "import ast\n",
    "import numpy as np\n",
    "import pandas as pd\n",
    "import matplotlib.pyplot as plt"
   ]
  },
  {
   "cell_type": "code",
   "execution_count": 31,
   "metadata": {},
   "outputs": [
    {
     "data": {
      "text/html": [
       "<div>\n",
       "<style scoped>\n",
       "    .dataframe tbody tr th:only-of-type {\n",
       "        vertical-align: middle;\n",
       "    }\n",
       "\n",
       "    .dataframe tbody tr th {\n",
       "        vertical-align: top;\n",
       "    }\n",
       "\n",
       "    .dataframe thead th {\n",
       "        text-align: right;\n",
       "    }\n",
       "</style>\n",
       "<table border=\"1\" class=\"dataframe\">\n",
       "  <thead>\n",
       "    <tr style=\"text-align: right;\">\n",
       "      <th></th>\n",
       "      <th>Restaurant</th>\n",
       "      <th>Reviewer</th>\n",
       "      <th>Review</th>\n",
       "      <th>Rating</th>\n",
       "      <th>Time</th>\n",
       "      <th>Pictures</th>\n",
       "      <th>prev_reviews_count</th>\n",
       "      <th>followers_count</th>\n",
       "      <th>Month</th>\n",
       "      <th>DayOfWeek</th>\n",
       "    </tr>\n",
       "  </thead>\n",
       "  <tbody>\n",
       "    <tr>\n",
       "      <th>0</th>\n",
       "      <td>Beyond Flavours</td>\n",
       "      <td>Rusha Chakraborty</td>\n",
       "      <td>The ambience was good, food was quite good . h...</td>\n",
       "      <td>5.0</td>\n",
       "      <td>2019-05-25 15:54:00</td>\n",
       "      <td>0</td>\n",
       "      <td>1</td>\n",
       "      <td>2</td>\n",
       "      <td>5</td>\n",
       "      <td>Saturday</td>\n",
       "    </tr>\n",
       "    <tr>\n",
       "      <th>1</th>\n",
       "      <td>Beyond Flavours</td>\n",
       "      <td>Anusha Tirumalaneedi</td>\n",
       "      <td>Ambience is too good for a pleasant evening. S...</td>\n",
       "      <td>5.0</td>\n",
       "      <td>2019-05-25 14:20:00</td>\n",
       "      <td>0</td>\n",
       "      <td>3</td>\n",
       "      <td>2</td>\n",
       "      <td>5</td>\n",
       "      <td>Saturday</td>\n",
       "    </tr>\n",
       "  </tbody>\n",
       "</table>\n",
       "</div>"
      ],
      "text/plain": [
       "        Restaurant              Reviewer  \\\n",
       "0  Beyond Flavours     Rusha Chakraborty   \n",
       "1  Beyond Flavours  Anusha Tirumalaneedi   \n",
       "\n",
       "                                              Review  Rating  \\\n",
       "0  The ambience was good, food was quite good . h...     5.0   \n",
       "1  Ambience is too good for a pleasant evening. S...     5.0   \n",
       "\n",
       "                  Time  Pictures  prev_reviews_count  followers_count  Month  \\\n",
       "0  2019-05-25 15:54:00         0                   1                2      5   \n",
       "1  2019-05-25 14:20:00         0                   3                2      5   \n",
       "\n",
       "  DayOfWeek  \n",
       "0  Saturday  \n",
       "1  Saturday  "
      ]
     },
     "execution_count": 31,
     "metadata": {},
     "output_type": "execute_result"
    }
   ],
   "source": [
    "reviews = pd.read_csv(r'../data/restaurant_reviews_upd.csv')\n",
    "reviews.head(2)"
   ]
  },
  {
   "cell_type": "code",
   "execution_count": 32,
   "metadata": {},
   "outputs": [
    {
     "data": {
      "text/html": [
       "<div>\n",
       "<style scoped>\n",
       "    .dataframe tbody tr th:only-of-type {\n",
       "        vertical-align: middle;\n",
       "    }\n",
       "\n",
       "    .dataframe tbody tr th {\n",
       "        vertical-align: top;\n",
       "    }\n",
       "\n",
       "    .dataframe thead th {\n",
       "        text-align: right;\n",
       "    }\n",
       "</style>\n",
       "<table border=\"1\" class=\"dataframe\">\n",
       "  <thead>\n",
       "    <tr style=\"text-align: right;\">\n",
       "      <th></th>\n",
       "      <th>Name</th>\n",
       "      <th>Cost</th>\n",
       "      <th>Cuisine_List</th>\n",
       "    </tr>\n",
       "  </thead>\n",
       "  <tbody>\n",
       "    <tr>\n",
       "      <th>0</th>\n",
       "      <td>Beyond Flavours</td>\n",
       "      <td>800</td>\n",
       "      <td>[chinese, continental, kebab, european, southi...</td>\n",
       "    </tr>\n",
       "    <tr>\n",
       "      <th>1</th>\n",
       "      <td>Paradise</td>\n",
       "      <td>800</td>\n",
       "      <td>[biryani, northindian, chinese]</td>\n",
       "    </tr>\n",
       "  </tbody>\n",
       "</table>\n",
       "</div>"
      ],
      "text/plain": [
       "              Name  Cost                                       Cuisine_List\n",
       "0  Beyond Flavours   800  [chinese, continental, kebab, european, southi...\n",
       "1         Paradise   800                    [biryani, northindian, chinese]"
      ]
     },
     "execution_count": 32,
     "metadata": {},
     "output_type": "execute_result"
    }
   ],
   "source": [
    "restaurant_data = pd.read_csv('../data/restaurant_detail_upd.csv')\n",
    "# convert string to lit\n",
    "restaurant_data['Cuisine_List'] = restaurant_data['Cuisine_List'].apply(ast.literal_eval)\n",
    "restaurant_data.head(2)"
   ]
  },
  {
   "cell_type": "code",
   "execution_count": 33,
   "metadata": {},
   "outputs": [
    {
     "data": {
      "text/html": [
       "<div>\n",
       "<style scoped>\n",
       "    .dataframe tbody tr th:only-of-type {\n",
       "        vertical-align: middle;\n",
       "    }\n",
       "\n",
       "    .dataframe tbody tr th {\n",
       "        vertical-align: top;\n",
       "    }\n",
       "\n",
       "    .dataframe thead th {\n",
       "        text-align: right;\n",
       "    }\n",
       "</style>\n",
       "<table border=\"1\" class=\"dataframe\">\n",
       "  <thead>\n",
       "    <tr style=\"text-align: right;\">\n",
       "      <th></th>\n",
       "      <th>american</th>\n",
       "      <th>andhra</th>\n",
       "      <th>arabian</th>\n",
       "      <th>asian</th>\n",
       "      <th>bakery</th>\n",
       "      <th>bbq</th>\n",
       "      <th>beverages</th>\n",
       "      <th>biryani</th>\n",
       "      <th>burger</th>\n",
       "      <th>cafe</th>\n",
       "      <th>...</th>\n",
       "      <th>pizza</th>\n",
       "      <th>salad</th>\n",
       "      <th>seafood</th>\n",
       "      <th>southindian</th>\n",
       "      <th>spanish</th>\n",
       "      <th>streetfood</th>\n",
       "      <th>sushi</th>\n",
       "      <th>thai</th>\n",
       "      <th>wraps</th>\n",
       "      <th>Cost</th>\n",
       "    </tr>\n",
       "    <tr>\n",
       "      <th>Name</th>\n",
       "      <th></th>\n",
       "      <th></th>\n",
       "      <th></th>\n",
       "      <th></th>\n",
       "      <th></th>\n",
       "      <th></th>\n",
       "      <th></th>\n",
       "      <th></th>\n",
       "      <th></th>\n",
       "      <th></th>\n",
       "      <th></th>\n",
       "      <th></th>\n",
       "      <th></th>\n",
       "      <th></th>\n",
       "      <th></th>\n",
       "      <th></th>\n",
       "      <th></th>\n",
       "      <th></th>\n",
       "      <th></th>\n",
       "      <th></th>\n",
       "      <th></th>\n",
       "    </tr>\n",
       "  </thead>\n",
       "  <tbody>\n",
       "    <tr>\n",
       "      <th>Beyond Flavours</th>\n",
       "      <td>0</td>\n",
       "      <td>0</td>\n",
       "      <td>0</td>\n",
       "      <td>0</td>\n",
       "      <td>0</td>\n",
       "      <td>0</td>\n",
       "      <td>0</td>\n",
       "      <td>0</td>\n",
       "      <td>0</td>\n",
       "      <td>0</td>\n",
       "      <td>...</td>\n",
       "      <td>0</td>\n",
       "      <td>0</td>\n",
       "      <td>0</td>\n",
       "      <td>1</td>\n",
       "      <td>0</td>\n",
       "      <td>0</td>\n",
       "      <td>0</td>\n",
       "      <td>0</td>\n",
       "      <td>0</td>\n",
       "      <td>800</td>\n",
       "    </tr>\n",
       "    <tr>\n",
       "      <th>Paradise</th>\n",
       "      <td>0</td>\n",
       "      <td>0</td>\n",
       "      <td>0</td>\n",
       "      <td>0</td>\n",
       "      <td>0</td>\n",
       "      <td>0</td>\n",
       "      <td>0</td>\n",
       "      <td>1</td>\n",
       "      <td>0</td>\n",
       "      <td>0</td>\n",
       "      <td>...</td>\n",
       "      <td>0</td>\n",
       "      <td>0</td>\n",
       "      <td>0</td>\n",
       "      <td>0</td>\n",
       "      <td>0</td>\n",
       "      <td>0</td>\n",
       "      <td>0</td>\n",
       "      <td>0</td>\n",
       "      <td>0</td>\n",
       "      <td>800</td>\n",
       "    </tr>\n",
       "  </tbody>\n",
       "</table>\n",
       "<p>2 rows × 45 columns</p>\n",
       "</div>"
      ],
      "text/plain": [
       "                 american  andhra  arabian  asian  bakery  bbq  beverages  \\\n",
       "Name                                                                        \n",
       "Beyond Flavours         0       0        0      0       0    0          0   \n",
       "Paradise                0       0        0      0       0    0          0   \n",
       "\n",
       "                 biryani  burger  cafe  ...  pizza  salad  seafood  \\\n",
       "Name                                    ...                          \n",
       "Beyond Flavours        0       0     0  ...      0      0        0   \n",
       "Paradise               1       0     0  ...      0      0        0   \n",
       "\n",
       "                 southindian  spanish  streetfood  sushi  thai  wraps  Cost  \n",
       "Name                                                                         \n",
       "Beyond Flavours            1        0           0      0     0      0   800  \n",
       "Paradise                   0        0           0      0     0      0   800  \n",
       "\n",
       "[2 rows x 45 columns]"
      ]
     },
     "execution_count": 33,
     "metadata": {},
     "output_type": "execute_result"
    }
   ],
   "source": [
    "import ast\n",
    "from sklearn.preprocessing import MultiLabelBinarizer\n",
    "\n",
    "mlb = MultiLabelBinarizer()\n",
    "features = mlb.fit_transform(restaurant_data['Cuisine_List'])\n",
    "\n",
    "features_df = pd.DataFrame(features, columns=mlb.classes_)\n",
    "\n",
    "features_df['Cost'] = restaurant_data['Cost']\n",
    "features_df['Name'] = restaurant_data['Name']\n",
    "\n",
    "# features_df.head()\n",
    "features_df.set_index('Name',inplace=True)\n",
    "features_df.head(2)"
   ]
  },
  {
   "cell_type": "code",
   "execution_count": 34,
   "metadata": {},
   "outputs": [],
   "source": [
    "features_df['Avg_Rating'] = reviews.groupby('Restaurant')['Rating'].mean()\n",
    "features_df.head(10)\n",
    "\n",
    "# take over the null values\n",
    "features_df['Avg_Rating'] = features_df['Avg_Rating'].fillna(features_df['Avg_Rating'].mean())\n",
    "features_df['Cost'] = features_df['Cost'].fillna(features_df['Cost'].mean())"
   ]
  },
  {
   "cell_type": "code",
   "execution_count": 44,
   "metadata": {},
   "outputs": [
    {
     "data": {
      "text/plain": [
       "['asian',\n",
       " 'biryani',\n",
       " 'chinese',\n",
       " 'continental',\n",
       " 'desserts',\n",
       " 'fastfood',\n",
       " 'italian',\n",
       " 'northindian',\n",
       " 'southindian',\n",
       " 'Cost',\n",
       " 'Avg_Rating']"
      ]
     },
     "execution_count": 44,
     "metadata": {},
     "output_type": "execute_result"
    }
   ],
   "source": [
    "# finding most important cuisinea\n",
    "selected_features = features_df.columns[features_df.sum(axis=0) > 7].to_list()\n",
    "selected_features"
   ]
  },
  {
   "cell_type": "markdown",
   "metadata": {},
   "source": [
    "### ML Model Implementation\n",
    "\n",
    "- The ML model used is K-Means clustering. K-Means is an unsupervised learning algorithm used for clustering data points into K clusters based on similarity.\n",
    "\n",
    "- The performance of the K-Means model can be evaluated using two main metrics: inertia and silhouette score.\n",
    "    - Inertia represents the sum of squared distances of samples to their closest cluster center. Lower inertia values indicate tighter clusters.\n",
    "\n",
    "    - Silhouette score measures how similar an object is to its own cluster (cohesion) compared to other clusters (separation). Higher silhouette scores indicate better-defined clusters.\n",
    "\n",
    "- Based on the provided data:\n",
    "    - Inertia values decrease as the number of clusters (K) increases, which is expected. However, the rate of decrease slows down as K increases.\n",
    "    - Silhouette scores also increase with the number of clusters, indicating better-defined clusters.\n",
    "\n",
    "- By analyzing both metrics, we can determine the appropriate number of clusters that provide a good balance between tight clustering (low inertia) and well-separated clusters (high silhouette score)."
   ]
  },
  {
   "cell_type": "code",
   "execution_count": 46,
   "metadata": {},
   "outputs": [
    {
     "name": "stderr",
     "output_type": "stream",
     "text": [
      "c:\\Users\\Nitin Flavier\\Desktop\\Data Nexus\\Data Science\\ML_BootCamp\\ML_Projects\\Zomato_Insights\\venv\\lib\\site-packages\\joblib\\externals\\loky\\backend\\context.py:136: UserWarning: Could not find the number of physical cores for the following reason:\n",
      "[WinError 2] The system cannot find the file specified\n",
      "Returning the number of logical cores instead. You can silence this warning by setting LOKY_MAX_CPU_COUNT to the number of cores you want to use.\n",
      "  warnings.warn(\n",
      "  File \"c:\\Users\\Nitin Flavier\\Desktop\\Data Nexus\\Data Science\\ML_BootCamp\\ML_Projects\\Zomato_Insights\\venv\\lib\\site-packages\\joblib\\externals\\loky\\backend\\context.py\", line 257, in _count_physical_cores\n",
      "    cpu_info = subprocess.run(\n",
      "  File \"c:\\Users\\Nitin Flavier\\Desktop\\Data Nexus\\Data Science\\ML_BootCamp\\ML_Projects\\Zomato_Insights\\venv\\lib\\subprocess.py\", line 501, in run\n",
      "    with Popen(*popenargs, **kwargs) as process:\n",
      "  File \"c:\\Users\\Nitin Flavier\\Desktop\\Data Nexus\\Data Science\\ML_BootCamp\\ML_Projects\\Zomato_Insights\\venv\\lib\\subprocess.py\", line 966, in __init__\n",
      "    self._execute_child(args, executable, preexec_fn, close_fds,\n",
      "  File \"c:\\Users\\Nitin Flavier\\Desktop\\Data Nexus\\Data Science\\ML_BootCamp\\ML_Projects\\Zomato_Insights\\venv\\lib\\subprocess.py\", line 1435, in _execute_child\n",
      "    hp, ht, pid, tid = _winapi.CreateProcess(executable, args,\n"
     ]
    }
   ],
   "source": [
    "from sklearn.cluster import KMeans\n",
    "from sklearn.metrics import silhouette_score\n",
    "from sklearn.preprocessing import StandardScaler\n",
    "\n",
    "X = StandardScaler().fit_transform(features_df[selected_features])\n",
    "\n",
    "cluster_range = range(2,15)\n",
    "inertia_values = []\n",
    "silhouette_scores = []\n",
    "\n",
    "for n_clusters in cluster_range:\n",
    "    kmeans = KMeans(n_clusters=n_clusters,init='k-means++',random_state=43)\n",
    "    kmeans.fit(X)\n",
    "    inertia_values.append(kmeans.inertia_)\n",
    "    silhouette_scores.append(silhouette_score(X, kmeans.labels_))\n",
    "    "
   ]
  },
  {
   "cell_type": "code",
   "execution_count": 50,
   "metadata": {},
   "outputs": [
    {
     "data": {
      "image/png": "[encoded data removed]",
      "text/plain": [
       "<Figure size 1200x600 with 2 Axes>"
      ]
     },
     "metadata": {},
     "output_type": "display_data"
    },
    {
     "name": "stdout",
     "output_type": "stream",
     "text": [
      "Optimal number of clusters: 14\n"
     ]
    }
   ],
   "source": [
    "\n",
    "# Plot the elbow curve to find the optimal number of clusters\n",
    "plt.figure(figsize=(12, 6))\n",
    "plt.subplot(1, 2, 1)\n",
    "plt.plot(cluster_range, inertia_values, marker='o')\n",
    "plt.title('Elbow Curve')\n",
    "plt.xlabel('Number of Clusters')\n",
    "plt.ylabel('Inertia (Within-Cluster Sum of Squares)')\n",
    "\n",
    "# Plot the silhouette score to evaluate cluster quality\n",
    "plt.subplot(1, 2, 2)\n",
    "plt.plot(cluster_range, silhouette_scores, marker='o')\n",
    "plt.title('Silhouette Score')\n",
    "plt.xlabel('Number of Clusters')\n",
    "plt.ylabel('Silhouette Score')\n",
    "\n",
    "plt.tight_layout()\n",
    "plt.show()\n",
    "\n",
    "# Based on the plots, you can choose the optimal number of clusters\n",
    "optimal_clusters = cluster_range[np.argmax(silhouette_scores)]\n",
    "print(f\"Optimal number of clusters: {optimal_clusters}\")"
   ]
  },
  {
   "cell_type": "code",
   "execution_count": null,
   "metadata": {},
   "outputs": [],
   "source": []
  }
 ],
 "metadata": {
  "kernelspec": {
   "display_name": "venv",
   "language": "python",
   "name": "python3"
  },
  "language_info": {
   "codemirror_mode": {
    "name": "ipython",
    "version": 3
   },
   "file_extension": ".py",
   "mimetype": "text/x-python",
   "name": "python",
   "nbconvert_exporter": "python",
   "pygments_lexer": "ipython3",
   "version": "3.10.0"
  }
 },
 "nbformat": 4,
 "nbformat_minor": 2
}
